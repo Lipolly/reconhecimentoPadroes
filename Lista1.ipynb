{
  "cells": [
    {
      "cell_type": "markdown",
      "metadata": {
        "id": "view-in-github",
        "colab_type": "text"
      },
      "source": [
        "<a href=\"https://colab.research.google.com/github/Lipolly/reconhecimentoPadroes/blob/main/Lista1.ipynb\" target=\"_parent\"><img src=\"https://colab.research.google.com/assets/colab-badge.svg\" alt=\"Open In Colab\"/></a>"
      ]
    },
    {
      "cell_type": "markdown",
      "source": [
        "# Ricardo Piero Lippoli Batista | 202010505",
      ],
      "metadata": {
        "id": "ux3i-HwgT4lE"
      },
      "id": "ux3i-HwgT4lE"
    },
    {
      "cell_type": "code",
      "execution_count": null,
      "id": "036ec8b3",
      "metadata": {
        "id": "036ec8b3"
      },
      "outputs": [],
      "source": [
        "## Importando as Bibliotecas Necessárias ##\n",
        "import warnings\n",
        "warnings.filterwarnings(\"ignore\")\n",
        "\n",
        "import numpy as np\n",
        "import pandas as pd\n",
        "import seaborn as sns\n",
        "import matplotlib.pyplot as plt\n",
        "from sklearn.datasets import load_iris\n",
        "from sklearn.model_selection import train_test_split\n",
        "from sklearn.naive_bayes import GaussianNB\n",
        "from copy import copy\n",
        "from numpy.linalg import inv\n",
        "sns.set()\n"
      ]
    },
    {
      "cell_type": "code",
      "execution_count": null,
      "id": "a79d12bc",
      "metadata": {
        "scrolled": true,
        "id": "a79d12bc"
      },
      "outputs": [],
      "source": [
        "#aplicando histogramas para os atributos contínuos:\n",
        "def multigraficos_histograma(data, nrows, ncols, nomes):\n",
        "    fig, axs = plt.subplots(nrows = nrows, ncols = ncols, figsize=(15, 5*nrows))\n",
        "    k = 0\n",
        "    for i in range(nrows):\n",
        "        for j in range(ncols):\n",
        "            sns.histplot(ax = axs[i,j], data = data, x = nomes[k])\n",
        "            axs[i, j].set_xlabel(nomes[k])\n",
        "            axs[i, j].set_ylabel(\"contagem\")\n",
        "            k+=1\n",
        "        #\n",
        "    #\n",
        "#\n",
        "\n",
        "nrows = 3\n",
        "ncols = 5"
      ]
    },
    {
      "cell_type": "code",
      "source": [
        "from google.colab import drive\n",
        "drive.mount('/content/drive')"
      ],
      "metadata": {
        "colab": {
          "base_uri": "https://localhost:8080/"
        },
        "id": "O-4Dn5jjgIdy",
        "outputId": "77ab5e6f-1640-4c9f-9848-ccdf2b1164d5"
      },
      "id": "O-4Dn5jjgIdy",
      "execution_count": null,
      "outputs": [
        {
          "output_type": "stream",
          "name": "stdout",
          "text": [
            "Mounted at /content/drive\n"
          ]
        }
      ]
    },
    {
      "cell_type": "code",
      "execution_count": null,
      "id": "f1555428",
      "metadata": {
        "id": "f1555428"
      },
      "outputs": [],
      "source": [
        "# Lendo a base de dados\n",
        "df = pd.read_excel(\"/content/drive/Shareddrives/Ufla/Lista1Reconhecimento/hcv_data.xlsx\")\n",
        "dfOrigin = copy(df)\n",
        "df.head()"
      ]
    },
    {
      "cell_type": "markdown",
      "id": "dbe28cda",
      "metadata": {
        "id": "dbe28cda"
      },
      "source": [
        "Nessa etapa, vamos codificar as variáveis que precisam de codificação e transformação em variáveis indicadoras"
      ]
    },
    {
      "cell_type": "markdown",
      "source": [
        "# 1_A) A Base de dados é referente a um banco de sangue. Nela podemos notar informações relevantes para definirmos qual o destino podemos alocar para cada amostra. De acordo com os atributos podemos montar um algoritmo de decisão para atribuirmos a melhor amostra de sangue para um paciente."
      ],
      "metadata": {
        "id": "zM0XiP7nW4-p"
      },
      "id": "zM0XiP7nW4-p"
    },
    {
      "cell_type": "code",
      "source": [
        "df.shape"
      ],
      "metadata": {
        "colab": {
          "base_uri": "https://localhost:8080/"
        },
        "id": "nL9oitqRWneL",
        "outputId": "4905e5c3-c5bf-4442-eb26-3300cbf1c603"
      },
      "id": "nL9oitqRWneL",
      "execution_count": null,
      "outputs": [
        {
          "output_type": "execute_result",
          "data": {
            "text/plain": [
              "(615, 14)"
            ]
          },
          "metadata": {},
          "execution_count": 24
        }
      ]
    },
    {
      "cell_type": "code",
      "source": [
        "df.columns"
      ],
      "metadata": {
        "colab": {
          "base_uri": "https://localhost:8080/"
        },
        "id": "jmIv8r_MZDse",
        "outputId": "6c9cfd54-367e-4b3d-dcd9-c69af38b0e2f"
      },
      "id": "jmIv8r_MZDse",
      "execution_count": null,
      "outputs": [
        {
          "output_type": "execute_result",
          "data": {
            "text/plain": [
              "Index(['ID', 'Category', 'Age', 'Sex', 'ALB', 'ALP', 'ALT', 'AST', 'BIL',\n",
              "       'CHE', 'CHOL', 'CREA', 'GGT', 'PROT'],\n",
              "      dtype='object')"
            ]
          },
          "metadata": {},
          "execution_count": 25
        }
      ]
    },
    {
      "cell_type": "markdown",
      "source": [
        "# 1-B) Podemos notar que existem 615 amostras e 13 atributos"
      ],
      "metadata": {
        "id": "G3GWaWePWqvM"
      },
      "id": "G3GWaWePWqvM"
    },
    {
      "cell_type": "markdown",
      "source": [
        "LIDANDO COM OS DADOS CATEGORICOS\n",
        "\n"
      ],
      "metadata": {
        "id": "w7L50LgpFkLL"
      },
      "id": "w7L50LgpFkLL"
    },
    {
      "cell_type": "code",
      "execution_count": null,
      "id": "a10ea20e",
      "metadata": {
        "id": "a10ea20e"
      },
      "outputs": [],
      "source": [
        "## Codificando dependentes - Transformação e variáveis indicadoras binárias\n",
        "df = dfOrigin\n",
        "k = np.where(df[\"Category\"] == '0=Blood Donor')[0]\n",
        "df[\"Category\"][k] = 1\n",
        "del k\n",
        "\n",
        "k = np.where(df[\"Category\"] == '0s=suspect Blood Donor')[0]\n",
        "df['Category'][k] = 1\n",
        "del k\n",
        "\n",
        "k = np.where(df[\"Category\"] =='1=Hepatitis')[0]\n",
        "df['Category'][k] = -1\n",
        "del k\n",
        "\n",
        "k = np.where(df[\"Category\"] == '2=Fibrosis')[0]\n",
        "df['Category'][k] = 0\n",
        "del k\n",
        "\n",
        "k = np.where(df[\"Category\"] == '3=Cirrhosis')[0]\n",
        "df['Category'][k] = 0\n",
        "del k\n",
        "\n",
        "k = np.where(df[\"Category\"] == '?')[0]\n",
        "df.iloc[k] = np.nan\n",
        "del k\n",
        "\n",
        "## Codficando Area da propriedade - Transformação e variáveis indicadoras binárias\n",
        "\n",
        "k = np.where(df[\"Age\"] > 20)[0]\n",
        "df[\"Age\"][k] = 1\n",
        "del k\n",
        "##\n",
        "\n",
        "#Codificando variáveis binárias para (0/1)\n",
        "df[\"Sex\"][df[\"Sex\"] == 'm'] = 0\n",
        "df[\"Sex\"][df[\"Sex\"] == 'f'] = 1\n",
        "\n",
        "df.head()"
      ]
    },
    {
      "cell_type": "code",
      "source": [
        "df.isna().sum()"
      ],
      "metadata": {
        "id": "xWwuQBF_kDSW"
      },
      "id": "xWwuQBF_kDSW",
      "execution_count": null,
      "outputs": []
    },
    {
      "cell_type": "markdown",
      "source": [
        "# 1-C) Sim, a base de dados possui tanto dados faltantes quanto NANs.\n"
      ],
      "metadata": {
        "id": "lXyb-Sg8XgNj"
      },
      "id": "lXyb-Sg8XgNj"
    },
    {
      "cell_type": "code",
      "source": [
        "multigraficos_histograma(df, nrows, ncols, var_num)"
      ],
      "metadata": {
        "id": "uBr0Pu8Sk_HE"
      },
      "id": "uBr0Pu8Sk_HE",
      "execution_count": null,
      "outputs": []
    },
    {
      "cell_type": "markdown",
      "source": [
        "# 1_D) Sim Existe Desbalanceamento entre as classes. Isso fica evidente atravês dos gráficos gerados e entre a maior a maior proporção de dados de blood_donor e entre mais homens a mulheres dentre doadores."
      ],
      "metadata": {
        "id": "IFPArbyTJiG8"
      },
      "id": "IFPArbyTJiG8"
    },
    {
      "cell_type": "markdown",
      "source": [
        "# 1_E) Sim existem atributos assimetricos. Atributos assimetricos:\n",
        "# Categoria, Sexo, BIL, ALT, PROT, CREA, GGT"
      ],
      "metadata": {
        "id": "SHE6ghz2Cjf5"
      },
      "id": "SHE6ghz2Cjf5"
    },
    {
      "cell_type": "code",
      "execution_count": null,
      "id": "c49adf89",
      "metadata": {
        "scrolled": true,
        "id": "c49adf89"
      },
      "outputs": [],
      "source": [
        "print(\"Variaveis com outliers: \")\n",
        "df = dfOrigin\n",
        "\n",
        "dsc = df[var_num].describe() #obtendo estatísticas descritivas dos atributos numericos\n",
        "\n",
        "for name in dsc.columns:\n",
        "    q1 = dsc[name][\"25%\"]\n",
        "    q3 = dsc[name][\"75%\"]\n",
        "    iqr = q3-q1\n",
        "\n",
        "    min_ = q1 - 1.5*iqr\n",
        "    max_ = q3 + 1.5*iqr\n",
        "\n",
        "    out_inf = np.where(df[name] < min_)[0]\n",
        "    out_sup = np.where(df[name] > max_)[0]\n",
        "\n",
        "    if ((out_inf.shape[0] > 0) or (out_sup.shape[0] > 0)):\n",
        "        print(name)\n",
        "    #\n",
        "#\n",
        "\n",
        "print(\"\\n A observação também poderá ser feita de forma visual, mediante os gráficos de boxplot\")\n",
        "\n",
        "\n",
        "fig, axs = plt.subplots(nrows = nrows, ncols = ncols, figsize=(15, 5*nrows))\n",
        "sns.boxplot(ax = axs[0,0], data = df, x = 'Category', orient = 'h');  axs[0, 0].set_xlabel('Category')\n",
        "sns.boxplot(ax = axs[0,1], data = df, x = 'Age', orient = 'h'); axs[0, 1].set_xlabel(\"Age\")\n",
        "sns.boxplot(ax = axs[0,2], data = df, x =  'Sex', orient = 'h'); axs[1, 0].set_xlabel( \"Sex\")\n",
        "sns.boxplot(ax = axs[0,3], data = df, x = 'ALB', orient = 'h'); axs[1, 1].set_xlabel(\"ALB\")\n",
        "sns.boxplot(ax = axs[0,4], data = df, x =  'ALP', orient = 'h'); axs[1, 0].set_xlabel( \"ALP\")\n",
        "sns.boxplot(ax = axs[1,0], data = df, x = \"ALT\", orient = 'h'); axs[1, 1].set_xlabel(\"ALT\")\n",
        "sns.boxplot(ax = axs[1,1], data = df, x =  \"BIL\", orient = 'h'); axs[1, 0].set_xlabel( \"BIL\")\n",
        "sns.boxplot(ax = axs[1,2], data = df, x = \"CHE\", orient = 'h'); axs[1, 1].set_xlabel(\"CHE\")\n",
        "sns.boxplot(ax = axs[1,3], data = df, x = \"CHOL\", orient = 'h'); axs[1, 1].set_xlabel(\"CHOL\")\n",
        "sns.boxplot(ax = axs[1,4], data = df, x = \"CREA\", orient = 'h'); axs[1, 1].set_xlabel(\"CREA\")\n",
        "sns.boxplot(ax = axs[2,0], data = df, x = \"GGT\", orient = 'h'); axs[1, 1].set_xlabel(\"GGT\")\n",
        "sns.boxplot(ax = axs[2,1], data = df, x = \"PROT\", orient = 'h'); axs[1, 1].set_xlabel(\"PROT\")"
      ]
    },
    {
      "cell_type": "markdown",
      "source": [
        "# 1-F)SIM EXISTEM ATRIBUTOS COM OUTLIERS\n",
        "# Variaveis com outliers:\n",
        "# Age, ALB, ALP, ALT, AST, BIL, CHE, CHOL, CREA, GGT, PROT\n"
      ],
      "metadata": {
        "id": "JymP5a2PAzbI"
      },
      "id": "JymP5a2PAzbI"
    },
    {
      "cell_type": "markdown",
      "source": [
        "APENAS AUXILIARES"
      ],
      "metadata": {
        "id": "z-OVLy3TFfJy"
      },
      "id": "z-OVLy3TFfJy"
    },
    {
      "cell_type": "code",
      "source": [
        "df_tempvar = df\n",
        "del df_tempvar[\"ID\"]\n",
        "var_num = df_tempvar.columns\n",
        "del df_tempvar[\"Category\"]\n",
        "var_num2 = df_tempvar.columns\n",
        "var_num2"
      ],
      "metadata": {
        "id": "9zivXJ1UXnVl"
      },
      "id": "9zivXJ1UXnVl",
      "execution_count": null,
      "outputs": []
    },
    {
      "cell_type": "markdown",
      "source": [
        "# 1_G) IMPUTAÇÃO DA MÉDIA\n",
        "# É tratado os dados faltantes e NANs de cada atributo faltante para posteriormente a efetuação da soma\n"
      ],
      "metadata": {
        "id": "h_o_12YFFvdj"
      },
      "id": "h_o_12YFFvdj"
    },
    {
      "cell_type": "code",
      "source": [
        "#Imputação da Média\n",
        "df_temp = df.drop(603)\n",
        "k = df_temp['ALB'].sum()/df_temp.shape[0]\n",
        "df['ALB'][603] = k\n",
        "\n",
        "df_temp = df\n",
        "ALP = [541,545,546,568,569,570,571,576,581,582,583,584,585,590,592,603,613,614]\n",
        "for i in ALP:\n",
        "  df_temp = df.drop(i)\n",
        "\n",
        "k = df_temp['ALP'].sum()/df_temp.shape[0]\n",
        "for i in ALP:\n",
        "  df['ALP'][i] = k\n",
        "\n",
        "\n",
        "df_temp = df\n",
        "df_temp = df.drop(540)\n",
        "k = df_temp['ALT'].sum()/df_temp.shape[0]\n",
        "df['ALT'][540] = k\n",
        "\n",
        "df_temp = df\n",
        "CHOL = [121,319,329,413,424,433,498,584,590,603]\n",
        "for i in CHOL:\n",
        "  df_temp = df.drop(i)\n",
        "\n",
        "k = df_temp['CHOL'].sum()/df_temp.shape[0]\n",
        "for i in CHOL:\n",
        "  df['CHOL'][i] = k\n",
        "\n",
        "\n",
        "df_temp = df\n",
        "df_temp = df.drop(590)\n",
        "k = df_temp['PROT'].sum()/df_temp.shape[0]\n",
        "df['PROT'][590] = k\n",
        "\n",
        "df_media = df\n",
        "df_media.isnull().sum()\n",
        "\n",
        "print(df)"
      ],
      "metadata": {
        "id": "sRjcC8pVY6rK"
      },
      "id": "sRjcC8pVY6rK",
      "execution_count": null,
      "outputs": []
    },
    {
      "cell_type": "markdown",
      "source": [
        "# 1_G) IMPUTAÇÃO DA MEDIANA\n",
        "# É tratado os dados faltantes e NANs de cada atributo faltante para posteriormente a efetuação do ordenamento\n"
      ],
      "metadata": {
        "id": "Xp_XmuB9F49M"
      },
      "id": "Xp_XmuB9F49M"
    },
    {
      "cell_type": "code",
      "source": [
        "#Imputação da Mediana\n",
        "df = dfOrigin\n",
        "df_temp = df.drop(603)\n",
        "index_mediana = df_temp.shape[0]//2\n",
        "df_temp2 = df_temp.sort_values(by=[\"ALB\"], ignore_index=True)\n",
        "k = df_temp2['ALB'][index_mediana]\n",
        "df['ALB'][603] = k\n",
        "\n",
        "df_temp = df\n",
        "ALP = [541,545,546,568,569,570,571,576,581,582,583,584,585,590,592,603,613,614]\n",
        "for i in ALP:\n",
        "  df_temp = df.drop(i)\n",
        "\n",
        "df_temp2 = df_temp.sort_values(by=[\"ALP\"], ignore_index=True)\n",
        "k = df_temp2['ALP'][index_mediana]\n",
        "\n",
        "for i in ALP:\n",
        "  df['ALP'][i] = k\n",
        "\n",
        "df_temp = df.drop(540)\n",
        "df_temp2 = df_temp.sort_values(by=[\"ALT\"], ignore_index=True)\n",
        "k = df_temp2['ALT'][index_mediana]\n",
        "df['ALT'][540] = k\n",
        "\n",
        "df_temp = df\n",
        "CHOL = [121,319,329,413,424,433,498,584,590,603]\n",
        "for i in CHOL:\n",
        "  df_temp = df.drop(i)\n",
        "\n",
        "df_temp2 = df_temp.sort_values(by=[\"CHOL\"], ignore_index=True)\n",
        "k = df_temp2['CHOL'][index_mediana]\n",
        "\n",
        "for i in CHOL:\n",
        "  df['CHOL'][i] = k\n",
        "\n",
        "df_temp = df.drop(590)\n",
        "df_temp2 = df_temp.sort_values(by=[\"PROT\"], ignore_index=True)\n",
        "k = df_temp2['PROT'][index_mediana]\n",
        "df['PROT'][590] = k\n",
        "\n",
        "df_mediana = df\n",
        "df_mediana.isnull().sum()"
      ],
      "metadata": {
        "id": "igheP_5tZBDk"
      },
      "id": "igheP_5tZBDk",
      "execution_count": null,
      "outputs": []
    },
    {
      "cell_type": "markdown",
      "source": [
        "# 1_G)IMPUTAÇÃO DO KNN"
      ],
      "metadata": {
        "id": "diPZFWRSF-4H"
      },
      "id": "diPZFWRSF-4H"
    },
    {
      "cell_type": "code",
      "source": [
        "#Imputação do KNN\n",
        "from sklearn.impute import KNNImputer\n",
        "imputer = KNNImputer()\n",
        "imputed_data = imputer.fit_transform(df)  # impute all the missing data\n",
        "df_KNN= pd.DataFrame(imputed_data)\n",
        "df_KNN.rename(columns = {0: \"Id\", 1: \"Category\", 2: \"Age\", 3: \"Sex\", 4: \"ALB\", 5: \"ALP\", 6: \"ALT\", 7: \"AST\", 8: \"BIL\" , 9: \"CHE\" , 10: \"CHOL\", 11: \"CREA\", 12: \"GGT\", 13: \"PROT\" }, inplace=True)\n",
        "df_KNN"
      ],
      "metadata": {
        "id": "LCDbP0fKZEb9"
      },
      "id": "LCDbP0fKZEb9",
      "execution_count": null,
      "outputs": []
    },
    {
      "cell_type": "markdown",
      "source": [
        "# 1_G) Na imputação da media calculamos uma média para cada elemento ao fazermos um somatorio de todos os elemntos na coluna e dividirmos pelos n elementos da coluna.\n",
        "# Já na imputação da Mediana primeiro ordenamos os elementos em ordem crescente de termos na coluna e filtramos para pegar o elemento de posição n/2 da coluna onde n é o número de amostras na tabela.\n",
        "# A imputação de KNN é feita por meio de algortimo já pronto da biblioteca sklearn onde ele imputa o valor médio dentre n vizinhos nos dados faltantes.\n"
      ],
      "metadata": {
        "id": "FZIHdv6dGP1_"
      },
      "id": "FZIHdv6dGP1_"
    },
    {
      "cell_type": "markdown",
      "source": [
        "# 1_H) Para os atributos continuos da base de dados é recomendado a transformação logaritmica ou bloxplots dos dados continuos para a etapa de pós processamento e teste."
      ],
      "metadata": {
        "id": "WJr1ps2BVveA"
      },
      "id": "WJr1ps2BVveA"
    },
    {
      "cell_type": "markdown",
      "source": [
        "# Questão 2"
      ],
      "metadata": {
        "id": "i328nZf-ea2-"
      },
      "id": "i328nZf-ea2-"
    },
    {
      "cell_type": "code",
      "source": [
        "y0 = df_media.loc[df_media.ID[359]]\n",
        "y1 = df_media.loc[df_media.ID[546]]\n",
        "print(y1)"
      ],
      "metadata": {
        "id": "vMz-N43Sl-nX"
      },
      "id": "vMz-N43Sl-nX",
      "execution_count": null,
      "outputs": []
    },
    {
      "cell_type": "code",
      "source": [
        "df_Q2 = df_media[(df_media['Category'] == \"0=Blood Donor\") | (df_media['Category'] == \"1=Hepatitis\")]\n",
        "#df_Q2.shape\n",
        "blood = df_Q2[\"Category\"].value_counts(\"0=Blood Donor\")\n",
        "blood0 = blood[0]\n",
        "blood1 = blood[1]\n",
        "print(blood)\n",
        "sex = df_Q2[\"Sex\"].value_counts(\"m\")\n",
        "print(\"probabilidade Sexo: \",sex)\n",
        "alp = df_Q2[\"ALP\"].value_counts(34.6)\n",
        "valoralp1 = alp[34.6]\n",
        "valoralp0 = alp[56.2]\n",
        "print(\"probabilidadeALP0: \",valoralp0)\n",
        "print(\"probabilidadeALP1: \",valoralp1)\n",
        "crea = df_Q2[\"CREA\"].value_counts(81.2)\n",
        "valorcrea1 = crea[81.2]\n",
        "valorcrea0 = crea[69.0]\n",
        "print(\"probabilidadeCREA0: \",valorcrea0)\n",
        "print(\"probabilidadeCREA1: \",valorcrea1)\n",
        "df_Q2f =  df_Q2[df_Q2['Category'] == \"0=Blood Donor\"]\n",
        "PF = df_Q2f[\"Sex\"].value_counts(\"f\")\n",
        "print(\"Probabilidade de ser doador e ser mulher: \",PF)\n",
        "df_Q2M = df_Q2[df_Q2['Category'] == \"1=Hepatitis\"]\n",
        "PM = df_Q2M[\"Sex\"].value_counts(\"m\")\n",
        "print(\"Probabilidade de ter Hepatite e ser homem: \",PM)\n"
      ],
      "metadata": {
        "colab": {
          "base_uri": "https://localhost:8080/"
        },
        "id": "uRPaEhUBoO9s",
        "outputId": "09fba57b-ea1e-4de8-931d-4bc0395d6690"
      },
      "id": "uRPaEhUBoO9s",
      "execution_count": null,
      "outputs": [
        {
          "output_type": "stream",
          "name": "stdout",
          "text": [
            "0=Blood Donor    0.956912\n",
            "1=Hepatitis      0.043088\n",
            "Name: Category, dtype: float64\n",
            "probabilidade Sexo:  m    0.606822\n",
            "f    0.393178\n",
            "Name: Sex, dtype: float64\n",
            "probabilidadeALP0:  0.003590664272890485\n",
            "probabilidadeALP1:  0.003590664272890485\n",
            "probabilidadeCREA0:  0.026929982046678635\n",
            "probabilidadeCREA1:  0.0017953321364452424\n",
            "Probabilidade de ser doador e ser mulher:  m    0.596623\n",
            "f    0.403377\n",
            "Name: Sex, dtype: float64\n",
            "Probabilidade de ter Hepatite e ser homem:  m    0.833333\n",
            "f    0.166667\n",
            "Name: Sex, dtype: float64\n"
          ]
        }
      ]
    },
    {
      "cell_type": "code",
      "source": [
        "from statistics import variance\n",
        "dfcont = df_media[(df_media['Category'] == \"0=Blood Donor\")]\n",
        "mean1 = dfcont['ALP'].sum()/dfcont.shape[0]\n",
        "mean2 = dfcont['CREA'].sum()/dfcont.shape[0]\n",
        "var_alp = variance(dfcont[\"ALP\"],mean1)\n",
        "var_crea = variance(dfcont[\"CREA\"],mean2)\n",
        "print(\"mediaALP: \",mean1)\n",
        "print(\"mediaCREA: \",mean2)\n",
        "print(\"varianciaALP: \",var_alp)\n",
        "print(\"varianciaCREA: \",var_crea)\n",
        "dfcont2 = df_media[(df_media['Category'] == \"1=Hepatitis\")]\n",
        "meanH1 = dfcont2['ALP'].sum()/dfcont2.shape[0]\n",
        "meanH2 = dfcont2['CREA'].sum()/dfcont2.shape[0]\n",
        "var_alpH = variance(dfcont2[\"ALP\"],meanH1)\n",
        "var_creaH = variance(dfcont2[\"CREA\"],meanH2)\n",
        "print(\"mediaALP Hepatitis: \",meanH1)\n",
        "print(\"mediaCREA Hepatitis: \",meanH2)\n",
        "print(\"varianciaALP Hepatitis: \",var_alpH)\n",
        "print(\"varianciaCREA Hepatitis: \",var_creaH)\n",
        "probBDCont1 = (1*np.exp(-((56.2 - mean1)**2)/(2*var_alp))/(((2*np.pi)**(1/2))*var_alp))\n",
        "print(\"Probabilidade de ser o ALP do 359 e blood donor: \", probBDCont1)\n",
        "probBDCont2 = (1*np.exp(-((69.0 - mean2)**2)/(2*var_crea))/(((2*np.pi)**(1/2))*var_crea))\n",
        "print(\"Probabilidade de ser o CREA do 359 e blood donor: \", probBDCont2)\n",
        "probHepCont1 = (1*np.exp(-((56.2 - meanH1)**2)/(2*var_alpH))/(((2*np.pi)**(1/2))*var_alpH))\n",
        "print(\"Probabilidade de ser o ALP do 359 e Hepatite: \", probHepCont1)\n",
        "probHepCont2 = (1*np.exp(-((69.0 - meanH2)**2)/(2*var_creaH))/(((2*np.pi)**(1/2))*var_creaH))\n",
        "print(\"Probabilidade de ser o CREA do 359 e hepatite: \", probHepCont2)\n",
        "\n",
        "\n",
        "probBDCont3 = (1*np.exp(-((34.6 - mean1)**2)/(2*var_alp))/(((2*np.pi)**(1/2))*var_alp))\n",
        "print(\"Probabilidade de ser o ALP do 546 e blood donor: \", probBDCont3)\n",
        "probBDCont4 = (1*np.exp(-((81.2 - mean2)**2)/(2*var_crea))/(((2*np.pi)**(1/2))*var_crea))\n",
        "print(\"Probabilidade de ser o CREA do 546 e blood donor: \", probBDCont4)\n",
        "probHepCont3 = (1*np.exp(-((34.6 - meanH1)**2)/(2*var_alpH))/(((2*np.pi)**(1/2))*var_alpH))\n",
        "print(\"Probabilidade de ser o ALP do 546 e Hepatite: \", probHepCont3)\n",
        "probHepCont4 = (1*np.exp(-((81.2 - meanH2)**2)/(2*var_creaH))/(((2*np.pi)**(1/2))*var_creaH))\n",
        "print(\"Probabilidade de ser o CREA do 546 e hepatite: \", probHepCont4)\n"
      ],
      "metadata": {
        "id": "0RQuTtLOKvaE"
      },
      "id": "0RQuTtLOKvaE",
      "execution_count": null,
      "outputs": []
    },
    {
      "cell_type": "markdown",
      "source": [
        "# Questão 2: Por fim vamos determinar se classica corretamente"
      ],
      "metadata": {
        "id": "5Fk7nlnJPoQs"
      },
      "id": "5Fk7nlnJPoQs"
    },
    {
      "cell_type": "markdown",
      "source": [
        "# RESPOSTA COMPLETA DA 2\n",
        "Primeiramento usando a base de dados completa e sem igualar a quantidade de numeros de doadores de sangue e de hepatite a base de dados é enviessada e o bayesiano erraria + para classificações onde seria doador de sangue.\n",
        "\n",
        "Porém, usando do descrito anteriormente:\n",
        "Com os calculos de probabilidade feitos em python e com as probabilidades tais quais, probabilidade de ser mulher e doadora: 0.403377, homem e ter hepatite 0,8333 e as probabilidades continuas de ter ALP igual a 56.2 e ser doador, 0,00096 e de ter hepatite com ALP 56.2 igual a 0.000651, de ter CREA 69.0 e doador igual a 0.00149556 de ter CREA 69.0 e ter hepatite 0,000989 de ter ALP 34.6 e doador igual a 0,0002159, ALP 34.6 e hepatite 0,000657 como também, CREA 81.2 e ser doador igual 0,001872 e por fim CREA 81.2 com hepatite 0,000954\n",
        "\n",
        "Após efetuados os calculos fizemos as multiplicações para verificação da probabilidade de acerto entre classe 0 e 1. Para tanto multiplicamos a probabilidade de ser mulher e doadora com o ALP igual a 56.2 e doador e multiplicamos ainda pela probabilidade de ter o CREA 69.0 e ser doador\n",
        "com isso verificamos que a probabilidade é abaixo de 1 portanto ele acerta para essa classificação (valor: 5.79x10^-7) enquanto que para a probabilidade para hepatite com os valores de ALP e CREA o (valor: 1.07x10^-7) ele erra.\n",
        "Feito para o segundo dado concluimos que ele acerta com uma probabilidade de: 5.23^-7 para ser homem e ter hepatite enquanto que erra para ser homem e doador ao ter valor de 2.41x10^-7"
      ],
      "metadata": {
        "id": "NslU1awoUVnX"
      },
      "id": "NslU1awoUVnX"
    },
    {
      "cell_type": "code",
      "source": [
        "PB359classe1 = (PF*probBDCont1*probBDCont2)#/blood[0]\n",
        "print(\"Probabilidade de ser doador de sangue: \", PB359classe1)\n",
        "PB359classe2 = (PM*probHepCont1*probHepCont2)#/blood[1]\n",
        "print(\"Probabilidade de ter Hepatite: \", PB359classe2)\n",
        "PB546classe1 = (PF*probBDCont3*probBDCont4)#/blood[0]\n",
        "print(\"Probabilidade de ser doador de sangue: \", PB546classe1)\n",
        "PB546classe2 = (PM*probHepCont3*probHepCont4)#/blood[1]\n",
        "print(\"Probabilidade de ter Hepatite: \", PB546classe2)\n"
      ],
      "metadata": {
        "id": "TBv5poaZPn2J"
      },
      "id": "TBv5poaZPn2J",
      "execution_count": null,
      "outputs": []
    },
    {
      "cell_type": "markdown",
      "source": [
        "# Sim os dados foram Classificados incocorretamente, visto que as probabilidades não convergem para a classificação. Onde para o ID359 o bayesiano não converge a indicar que é doadora de sangue e o ID546 a ser homem, ou seja, 0 e 1."
      ],
      "metadata": {
        "id": "P3ohSWQAS2NI"
      },
      "id": "P3ohSWQAS2NI"
    },
    {
      "cell_type": "markdown",
      "source": [
        "# QUESTÃO 3"
      ],
      "metadata": {
        "id": "QQHb9MihIlyg"
      },
      "id": "QQHb9MihIlyg"
    },
    {
      "cell_type": "code",
      "execution_count": null,
      "metadata": {
        "id": "noPL57YRRfa1"
      },
      "outputs": [],
      "source": [
        "#Questão 3:\n",
        "dfOrigin = df\n",
        "values = ['0s=suspect Blood Donor', '2=Fibrosis', '3=Cirrhosis']\n",
        "df_Exec3 = dfOrigin[df['Category'].isin(values) == False]\n",
        "\n",
        "blood = df_Exec3[df_Exec3['Category'] == '0=Blood Donor'].iloc[:24]\n",
        "hepatit = df_Exec3[df_Exec3['Category'] == '1=Hepatitis'].iloc[:24]\n",
        "\n",
        "df_Exec3 = pd.concat([blood, hepatit])"
      ],
      "id": "noPL57YRRfa1"
    },
    {
      "cell_type": "code",
      "execution_count": null,
      "metadata": {
        "id": "Q2zbajP5yt8O",
        "colab": {
          "base_uri": "https://localhost:8080/",
          "height": 592
        },
        "outputId": "2c54fed5-db4e-4e55-b73f-87cf05f893f4"
      },
      "outputs": [
        {
          "output_type": "stream",
          "name": "stdout",
          "text": [
            "[-0.34920382 -1.18260836  3.25336427]\n"
          ]
        },
        {
          "output_type": "display_data",
          "data": {
            "text/plain": [
              "<Figure size 1000x600 with 1 Axes>"
            ],
            "image/png": "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\n"
          },
          "metadata": {}
        }
      ],
      "source": [
        "#Questão 3:\n",
        "df_Exec3['Category'] = df_Exec3['Category'].map({'0=Blood Donor': 1, '1=Hepatitis': -1})\n",
        "\n",
        "df_Exec3['CHOL'] = np.log1p(df_Exec3['CHOL'])\n",
        "df_Exec3['CHE'] = np.log1p(df_Exec3['CHE'])\n",
        "\n",
        "X = df_Exec3[['CHOL', 'CHE']].values\n",
        "y = df_Exec3['Category'].values\n",
        "\n",
        "X = np.concatenate((X, np.ones((X.shape[0], 1))), axis=1)\n",
        "\n",
        "w = np.dot(inv(np.dot(X.T, X)), np.dot(X.T, y))\n",
        "\n",
        "w1, w2, w0 = w[0], w[1], w[2]\n",
        "\n",
        "x_hyperplane = np.linspace(X[:, 0].min(), X[:, 0].max(), 1000)\n",
        "y_hyperplane = (-w0 - w1 * x_hyperplane) / w2\n",
        "\n",
        "plt.figure(figsize=(10, 6))\n",
        "plt.scatter(X[y == 1][:, 0], X[y == 1][:, 1], label='Blood Donor', c='blue')\n",
        "plt.scatter(X[y == -1][:, 0], X[y == -1][:, 1], label='Hepatitis', c='red')\n",
        "plt.plot(x_hyperplane, y_hyperplane, color='green', label='Hiperplano de Separação')\n",
        "plt.xlabel('CHOL')\n",
        "plt.ylabel('CHE')\n",
        "plt.legend()\n",
        "plt.title('Gráfico de Dispersão com Classificador Linear e Reta de Separação')\n",
        "plt.grid(True)\n",
        "plt.show()"
      ],
      "id": "Q2zbajP5yt8O"
    },
    {
      "cell_type": "markdown",
      "source": [
        "# **Questão 4:**\n",
        "\n",
        "**Probabilidade priori**\n",
        "\n",
        "P(C1) = 1000 / 2500 = 0.4\n",
        "\n",
        "P(C2) = 1970 / 2500 = 0.788\n",
        "\n",
        "P(C3) = 685 / 2500 = 0.274\n",
        "\n",
        "P(C1^) = 1345 / 2500 = 0.538\n",
        "\n",
        "P(C2^) = 1970 / 2500 = 0.788\n",
        "\n",
        "P(C3^) = 685 / 2500 = 0.274\n",
        "\n",
        "\n",
        "**Precisão e recall para cada classe:**\n",
        "\n",
        "Classe C1:\n",
        "Precisão (C1) = 900 / (900 + 105 + 340) = 0.717\n",
        "Recall (C1) = 900 / (900 + 10 + 90) = 0.9\n",
        "\n",
        "Classe C2:\n",
        "Precisão (C2) = 1700 / (1700 + 10 + 260) = 0.856\n",
        "Recall (C2) = 1700 / (1700 + 105 + 195) = 0.887\n",
        "\n",
        "Classe C3:\n",
        "Precisão (C3) = 400 / (400 + 90 + 195) = 0.571\n",
        "Recall (C3) = 400 / (400 + 340 + 260) = 0.446\n",
        "\n",
        "**Acurácia e kappa:**\n",
        "\n",
        "Acurácia = (900 + 1700 + 400) / (2500) = 0.792\n",
        "P_e = (0.4 * 0.538) + (0.788 * 0.788) + (0.274 * 0.274) = 0.514\n",
        "Kappa = (0.792 - 0.514) / (1 - 0.514) = 0.554\n",
        "\n",
        "\n",
        "*Com base nos valores calculados, o desempenho do modelo não é satisfatório, pois nenhum dos índices de avaliação está acima de 80%.*"
      ],
      "metadata": {
        "id": "wmwQB2xrGGqQ"
      },
      "id": "wmwQB2xrGGqQ"
    }
  ],
  "metadata": {
    "kernelspec": {
      "display_name": "Python 3 (ipykernel)",
      "language": "python",
      "name": "python3"
    },
    "language_info": {
      "codemirror_mode": {
        "name": "ipython",
        "version": 3
      },
      "file_extension": ".py",
      "mimetype": "text/x-python",
      "name": "python",
      "nbconvert_exporter": "python",
      "pygments_lexer": "ipython3",
      "version": "3.11.4"
    },
    "colab": {
      "provenance": [],
      "toc_visible": true,
      "include_colab_link": true
    }
  },
  "nbformat": 4,
  "nbformat_minor": 5
}
